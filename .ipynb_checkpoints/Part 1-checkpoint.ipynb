{
 "cells": [
  {
   "cell_type": "markdown",
   "id": "dd8c21a9-927a-4aa9-9b89-082f709cdb29",
   "metadata": {},
   "source": [
    "# 1. Prepare Dataset"
   ]
  },
  {
   "cell_type": "code",
   "execution_count": 98,
   "id": "5c642256-3bbd-4f73-8fc6-fc338c5c2fcc",
   "metadata": {},
   "outputs": [
    {
     "ename": "ValueError",
     "evalue": "libcublas.so.*[0-9] not found in the system path ['/usr/lib/python312.zip', '/usr/lib/python3.12', '/usr/lib/python3.12/lib-dynload', '', '/home/ayoubbakkali/.local/lib/python3.12/site-packages', '/usr/local/lib/python3.12/dist-packages', '/usr/lib/python3/dist-packages']",
     "output_type": "error",
     "traceback": [
      "\u001b[0;31m---------------------------------------------------------------------------\u001b[0m",
      "\u001b[0;31mOSError\u001b[0m                                   Traceback (most recent call last)",
      "File \u001b[0;32m~/.local/lib/python3.12/site-packages/torch/__init__.py:176\u001b[0m, in \u001b[0;36m_load_global_deps\u001b[0;34m()\u001b[0m\n\u001b[1;32m    175\u001b[0m \u001b[38;5;28;01mtry\u001b[39;00m:\n\u001b[0;32m--> 176\u001b[0m     \u001b[43mctypes\u001b[49m\u001b[38;5;241;43m.\u001b[39;49m\u001b[43mCDLL\u001b[49m\u001b[43m(\u001b[49m\u001b[43mlib_path\u001b[49m\u001b[43m,\u001b[49m\u001b[43m \u001b[49m\u001b[43mmode\u001b[49m\u001b[38;5;241;43m=\u001b[39;49m\u001b[43mctypes\u001b[49m\u001b[38;5;241;43m.\u001b[39;49m\u001b[43mRTLD_GLOBAL\u001b[49m\u001b[43m)\u001b[49m\n\u001b[1;32m    177\u001b[0m \u001b[38;5;28;01mexcept\u001b[39;00m \u001b[38;5;167;01mOSError\u001b[39;00m \u001b[38;5;28;01mas\u001b[39;00m err:\n\u001b[1;32m    178\u001b[0m     \u001b[38;5;66;03m# Can only happen for wheel with cuda libs as PYPI deps\u001b[39;00m\n\u001b[1;32m    179\u001b[0m     \u001b[38;5;66;03m# As PyTorch is not purelib, but nvidia-*-cu12 is\u001b[39;00m\n",
      "File \u001b[0;32m/usr/lib/python3.12/ctypes/__init__.py:379\u001b[0m, in \u001b[0;36mCDLL.__init__\u001b[0;34m(self, name, mode, handle, use_errno, use_last_error, winmode)\u001b[0m\n\u001b[1;32m    378\u001b[0m \u001b[38;5;28;01mif\u001b[39;00m handle \u001b[38;5;129;01mis\u001b[39;00m \u001b[38;5;28;01mNone\u001b[39;00m:\n\u001b[0;32m--> 379\u001b[0m     \u001b[38;5;28mself\u001b[39m\u001b[38;5;241m.\u001b[39m_handle \u001b[38;5;241m=\u001b[39m \u001b[43m_dlopen\u001b[49m\u001b[43m(\u001b[49m\u001b[38;5;28;43mself\u001b[39;49m\u001b[38;5;241;43m.\u001b[39;49m\u001b[43m_name\u001b[49m\u001b[43m,\u001b[49m\u001b[43m \u001b[49m\u001b[43mmode\u001b[49m\u001b[43m)\u001b[49m\n\u001b[1;32m    380\u001b[0m \u001b[38;5;28;01melse\u001b[39;00m:\n",
      "\u001b[0;31mOSError\u001b[0m: libcudart.so.12: cannot open shared object file: No such file or directory",
      "\nDuring handling of the above exception, another exception occurred:\n",
      "\u001b[0;31mValueError\u001b[0m                                Traceback (most recent call last)",
      "Cell \u001b[0;32mIn[98], line 7\u001b[0m\n\u001b[1;32m      5\u001b[0m \u001b[38;5;28;01mimport\u001b[39;00m \u001b[38;5;21;01mpandas\u001b[39;00m \u001b[38;5;28;01mas\u001b[39;00m \u001b[38;5;21;01mpd\u001b[39;00m\n\u001b[1;32m      6\u001b[0m \u001b[38;5;28;01mimport\u001b[39;00m \u001b[38;5;21;01mre\u001b[39;00m\n\u001b[0;32m----> 7\u001b[0m \u001b[38;5;28;01mimport\u001b[39;00m \u001b[38;5;21;01mtorch\u001b[39;00m\n\u001b[1;32m      8\u001b[0m \u001b[38;5;28;01mimport\u001b[39;00m \u001b[38;5;21;01mtorch\u001b[39;00m\u001b[38;5;21;01m.\u001b[39;00m\u001b[38;5;21;01mnn\u001b[39;00m \u001b[38;5;28;01mas\u001b[39;00m \u001b[38;5;21;01mnn\u001b[39;00m\n\u001b[1;32m      9\u001b[0m \u001b[38;5;28;01mimport\u001b[39;00m \u001b[38;5;21;01mtorch\u001b[39;00m\u001b[38;5;21;01m.\u001b[39;00m\u001b[38;5;21;01moptim\u001b[39;00m \u001b[38;5;28;01mas\u001b[39;00m \u001b[38;5;21;01moptim\u001b[39;00m\n",
      "File \u001b[0;32m~/.local/lib/python3.12/site-packages/torch/__init__.py:236\u001b[0m\n\u001b[1;32m    225\u001b[0m \u001b[38;5;28;01melse\u001b[39;00m:\n\u001b[1;32m    226\u001b[0m     \u001b[38;5;66;03m# Easy way.  You want this most of the time, because it will prevent\u001b[39;00m\n\u001b[1;32m    227\u001b[0m     \u001b[38;5;66;03m# C++ symbols from libtorch clobbering C++ symbols from other\u001b[39;00m\n\u001b[0;32m   (...)\u001b[0m\n\u001b[1;32m    233\u001b[0m     \u001b[38;5;66;03m#\u001b[39;00m\n\u001b[1;32m    234\u001b[0m     \u001b[38;5;66;03m# See Note [Global dependencies]\u001b[39;00m\n\u001b[1;32m    235\u001b[0m     \u001b[38;5;28;01mif\u001b[39;00m USE_GLOBAL_DEPS:\n\u001b[0;32m--> 236\u001b[0m         \u001b[43m_load_global_deps\u001b[49m\u001b[43m(\u001b[49m\u001b[43m)\u001b[49m\n\u001b[1;32m    237\u001b[0m     \u001b[38;5;28;01mfrom\u001b[39;00m \u001b[38;5;21;01mtorch\u001b[39;00m\u001b[38;5;21;01m.\u001b[39;00m\u001b[38;5;21;01m_C\u001b[39;00m \u001b[38;5;28;01mimport\u001b[39;00m \u001b[38;5;241m*\u001b[39m  \u001b[38;5;66;03m# noqa: F403\u001b[39;00m\n\u001b[1;32m    239\u001b[0m \u001b[38;5;66;03m# Appease the type checker; ordinarily this binding is inserted by the\u001b[39;00m\n\u001b[1;32m    240\u001b[0m \u001b[38;5;66;03m# torch._C module initialization code in C\u001b[39;00m\n",
      "File \u001b[0;32m~/.local/lib/python3.12/site-packages/torch/__init__.py:197\u001b[0m, in \u001b[0;36m_load_global_deps\u001b[0;34m()\u001b[0m\n\u001b[1;32m    195\u001b[0m     \u001b[38;5;28;01mraise\u001b[39;00m err\n\u001b[1;32m    196\u001b[0m \u001b[38;5;28;01mfor\u001b[39;00m lib_folder, lib_name \u001b[38;5;129;01min\u001b[39;00m cuda_libs\u001b[38;5;241m.\u001b[39mitems():\n\u001b[0;32m--> 197\u001b[0m     \u001b[43m_preload_cuda_deps\u001b[49m\u001b[43m(\u001b[49m\u001b[43mlib_folder\u001b[49m\u001b[43m,\u001b[49m\u001b[43m \u001b[49m\u001b[43mlib_name\u001b[49m\u001b[43m)\u001b[49m\n\u001b[1;32m    198\u001b[0m ctypes\u001b[38;5;241m.\u001b[39mCDLL(lib_path, mode\u001b[38;5;241m=\u001b[39mctypes\u001b[38;5;241m.\u001b[39mRTLD_GLOBAL)\n",
      "File \u001b[0;32m~/.local/lib/python3.12/site-packages/torch/__init__.py:162\u001b[0m, in \u001b[0;36m_preload_cuda_deps\u001b[0;34m(lib_folder, lib_name)\u001b[0m\n\u001b[1;32m    160\u001b[0m         \u001b[38;5;28;01mbreak\u001b[39;00m\n\u001b[1;32m    161\u001b[0m \u001b[38;5;28;01mif\u001b[39;00m \u001b[38;5;129;01mnot\u001b[39;00m lib_path:\n\u001b[0;32m--> 162\u001b[0m     \u001b[38;5;28;01mraise\u001b[39;00m \u001b[38;5;167;01mValueError\u001b[39;00m(\u001b[38;5;124mf\u001b[39m\u001b[38;5;124m\"\u001b[39m\u001b[38;5;132;01m{\u001b[39;00mlib_name\u001b[38;5;132;01m}\u001b[39;00m\u001b[38;5;124m not found in the system path \u001b[39m\u001b[38;5;132;01m{\u001b[39;00msys\u001b[38;5;241m.\u001b[39mpath\u001b[38;5;132;01m}\u001b[39;00m\u001b[38;5;124m\"\u001b[39m)\n\u001b[1;32m    163\u001b[0m ctypes\u001b[38;5;241m.\u001b[39mCDLL(lib_path)\n",
      "\u001b[0;31mValueError\u001b[0m: libcublas.so.*[0-9] not found in the system path ['/usr/lib/python312.zip', '/usr/lib/python3.12', '/usr/lib/python3.12/lib-dynload', '', '/home/ayoubbakkali/.local/lib/python3.12/site-packages', '/usr/local/lib/python3.12/dist-packages', '/usr/lib/python3/dist-packages']"
     ]
    }
   ],
   "source": [
    "import requests\n",
    "from bs4 import BeautifulSoup\n",
    "from sklearn.feature_extraction.text import TfidfVectorizer\n",
    "from sklearn.metrics.pairwise import cosine_similarity\n",
    "import pandas as pd\n",
    "import re\n",
    "import torch\n",
    "import torch.nn as nn\n",
    "import torch.optim as optim"
   ]
  },
  {
   "cell_type": "code",
   "execution_count": 54,
   "id": "746bd5f1-b1c1-4ade-ae71-fc32cd07ba1e",
   "metadata": {},
   "outputs": [],
   "source": [
    "links = []\n",
    "\n",
    "# Step 1: Loop through pages\n",
    "for i in range(1, 5):  # Adjust the range as needed\n",
    "    url = f'https://stackoverflow.com/questions/tagged/python?tab=newest&page={i}&pagesize=15'\n",
    "    response = requests.get(url)\n",
    "    \n",
    "    # Step 2: Parse the HTML content using BeautifulSoup\n",
    "    soup = BeautifulSoup(response.content, 'html.parser')\n",
    "    \n",
    "    # Step 3: Find all divs with the class 's-post-summary--content'\n",
    "    summary_divs = soup.find_all('div', class_='s-post-summary--content')\n",
    "    \n",
    "    # Step 4: Extract all links within <h3> tags with the class 's-post-summary--content-title'\n",
    "    for summary_div in summary_divs:\n",
    "        h3_tag = summary_div.find('h3', class_='s-post-summary--content-title')\n",
    "        if h3_tag:\n",
    "            a_tag = h3_tag.find('a', href=True)\n",
    "            if a_tag:\n",
    "                href = a_tag['href']\n",
    "                links.append(\"https://stackoverflow.com\" + href)"
   ]
  },
  {
   "cell_type": "code",
   "execution_count": 55,
   "id": "7ac82d84-d971-47d7-9a15-cea045dd30d8",
   "metadata": {},
   "outputs": [
    {
     "data": {
      "text/plain": [
       "200"
      ]
     },
     "execution_count": 55,
     "metadata": {},
     "output_type": "execute_result"
    }
   ],
   "source": [
    "len(links)"
   ]
  },
  {
   "cell_type": "code",
   "execution_count": 73,
   "id": "02006823-7f4e-4616-8e3f-dc8e33a556d4",
   "metadata": {},
   "outputs": [
    {
     "name": "stdout",
     "output_type": "stream",
     "text": [
      "Div with id='question' not found for link: https://stackoverflow.com/questions/78524932/typeerror-updater-init-missing-1-required-positional-argument-update-qu\n"
     ]
    }
   ],
   "source": [
    "dataset = []\n",
    "\n",
    "# Step 5: For each link, fetch the page and extract <p> texts within the <div> with id=\"question\"\n",
    "for link in links:\n",
    "    response1 = requests.get(link)\n",
    "    content = BeautifulSoup(response1.content, 'html.parser')\n",
    "    question_div = content.find('div', id='question')\n",
    "    \n",
    "    if question_div:\n",
    "        question_texts = [p.get_text() for p in question_div.find_all('p')]\n",
    "        concatenated_text = \" \".join(question_texts)\n",
    "        dataset.append(concatenated_text)\n",
    "    else:\n",
    "        print(f\"Div with id='question' not found for link: {link}\")\n"
   ]
  },
  {
   "cell_type": "code",
   "execution_count": 88,
   "id": "452be314-91dd-4933-b216-cbb85cd98125",
   "metadata": {},
   "outputs": [],
   "source": [
    "python_keywords = [\n",
    "    \"python\", \"programming\", \"language\", \"code\", \"syntax\", \"interpreter\", \"compiler\",\n",
    "    \"scripting\", \"script\", \"dynamic\", \"high-level\", \"indentation\", \"whitespace\",\n",
    "    \"function\", \"method\", \"object\", \"class\", \"module\", \"package\", \"library\",\n",
    "    \"variable\", \"constant\", \"data\", \"type\", \"integer\", \"float\", \"string\",\n",
    "    \"list\", \"tuple\", \"dictionary\", \"set\", \"array\", \"slice\", \"indexing\",\n",
    "    \"loop\", \"for\", \"while\", \"if\", \"else\", \"elif\", \"condition\", \"statement\",\n",
    "    \"exception\", \"try\", \"except\", \"finally\", \"raise\", \"assert\", \"error\",\n",
    "    \"import\", \"from\", \"as\", \"global\", \"local\", \"scope\", \"namespace\",\n",
    "    \"file\", \"read\", \"write\", \"open\", \"close\", \"stream\", \"input\", \"output\",\n",
    "    \"library\", \"standard\", \"built-in\", \"external\", \"third-party\", \"pip\",\n",
    "    \"package manager\", \"virtualenv\", \"conda\", \"anaconda\", \"environment\",\n",
    "    \"interpreter\", \"Jupyter\", \"notebook\", \"IDE\", \"PyCharm\", \"VSCode\", \"Atom\",\n",
    "    \"debugging\", \"traceback\", \"profiling\", \"optimization\", \"performance\",\n",
    "    \"documentation\", \"comment\", \"docstring\", \"PEP\", \"Python Enhancement Proposal\",\n",
    "    \"community\", \"forum\", \"stackoverflow\", \"github\", \"repository\", \"project\"\n",
    "]# TF-IDF vectorization\n",
    "vectorizer = TfidfVectorizer()\n",
    "tfidf_matrix = vectorizer.fit_transform(dataset + [python_reference_text])\n",
    "\n",
    "cosine_similarities = cosine_similarity(tfidf_matrix[-1], tfidf_matrix[:-1]).flatten()"
   ]
  },
  {
   "cell_type": "code",
   "execution_count": 89,
   "id": "233dd832-8cbe-4833-b4eb-dfcb51dfcdff",
   "metadata": {},
   "outputs": [],
   "source": [
    "scores = 10 * (cosine_similarities - min(cosine_similarities)) / (max(cosine_similarities) - min(cosine_similarities))"
   ]
  },
  {
   "cell_type": "code",
   "execution_count": 90,
   "id": "9e382d33-7df0-4814-972e-935022427e0f",
   "metadata": {},
   "outputs": [
    {
     "data": {
      "text/plain": [
       "array([ 0.8707129 ,  3.68375166,  1.98692481,  2.18772187,  2.13834544,\n",
       "        2.58664816,  0.49024164,  3.96366817,  2.4689575 ,  3.35533228,\n",
       "        2.27149256,  1.79264202,  4.04306986,  3.60190603,  1.90070393,\n",
       "        2.38448527,  1.49245352,  0.        ,  1.6771566 ,  4.88348974,\n",
       "        2.20510846,  1.52587072,  5.5432106 ,  4.11512158,  2.88278186,\n",
       "        3.82996436,  8.05070695,  2.67992325,  1.87376374,  4.91123215,\n",
       "        2.94510203,  1.5359707 ,  3.70740228,  5.31678843,  2.12475389,\n",
       "        3.32184686,  6.0606815 ,  4.37973385,  4.53897577,  2.56265881,\n",
       "        4.5121971 ,  3.70759768,  1.76625519,  1.06987761,  2.76841678,\n",
       "        3.90981595,  1.35966601,  3.77106858,  2.32102466,  1.97855259,\n",
       "        0.92148826,  2.9929547 ,  1.40219852,  2.72461466,  0.        ,\n",
       "        3.08938919,  3.25657554,  4.53647555,  1.85154714,  5.83039981,\n",
       "        4.31232657,  2.68323083,  0.98550794,  2.59589993,  2.9079294 ,\n",
       "        5.44778994,  2.4957007 ,  8.55063507,  1.84011462,  6.81688851,\n",
       "        1.01336011,  4.01379716,  5.757484  ,  2.08499217,  4.41479958,\n",
       "        4.0891538 ,  2.60696589,  0.3863963 ,  3.47301873,  1.62105087,\n",
       "        3.63250282,  4.2366758 ,  1.78789467,  4.39106863,  2.34627931,\n",
       "        2.10793396,  1.85622997,  3.51190084,  1.39126408,  2.04649873,\n",
       "        4.34275426,  3.15333048,  1.00924133,  5.1696424 ,  3.21689916,\n",
       "        3.00944316,  5.09551311,  1.49571283,  2.27908387,  1.47845177,\n",
       "        2.0836877 ,  1.08021956,  3.18691425,  2.40550084,  5.03674366,\n",
       "        4.74428436,  0.        ,  4.69514394,  1.66268187,  2.38409465,\n",
       "        1.93927037,  4.12921378,  2.09549831,  1.1167659 ,  2.28478312,\n",
       "        8.61366143,  3.42099647,  4.1880724 ,  1.50852988,  4.33723906,\n",
       "        3.66836601,  0.        ,  3.72401324,  2.60695947,  2.04785501,\n",
       "        3.01425373,  2.93643846,  3.15492908,  3.60683492,  5.25236329,\n",
       "        2.13542887,  3.4612421 ,  1.36119809,  0.59265988,  1.2335549 ,\n",
       "        1.55650482,  1.50517648,  1.55329375,  0.95026077,  2.27070648,\n",
       "        0.        ,  1.32598588,  1.18036193,  3.3305667 ,  1.7666899 ,\n",
       "        2.14418877,  2.10614986,  0.        ,  4.58792687, 10.        ,\n",
       "        3.82212907,  3.07055741,  2.75674691,  2.54791526,  0.        ,\n",
       "        2.02745479,  2.15823289,  3.8649494 ,  1.85092672,  0.49686849,\n",
       "        1.47547023,  5.96279916,  2.65584665,  2.50913986,  1.4679062 ,\n",
       "        1.83259539,  3.60237701,  7.04375328,  5.20738932,  2.09292458,\n",
       "        3.05080525,  1.49026823,  0.9064148 ,  5.91533855,  2.55477348,\n",
       "        5.50100792,  2.50835798,  1.77679596,  3.71031387,  4.33215331,\n",
       "        1.60408902,  3.09283996,  2.44854936,  1.58012733,  2.64815255,\n",
       "        1.65835412,  3.24474168,  2.89486936,  3.39450162,  2.76210663,\n",
       "        1.30322159,  2.62861072,  2.23283971,  7.87575932,  4.92220835,\n",
       "        2.26536444,  2.35346731,  2.41719717,  2.03244117])"
      ]
     },
     "execution_count": 90,
     "metadata": {},
     "output_type": "execute_result"
    }
   ],
   "source": [
    "scores"
   ]
  },
  {
   "cell_type": "code",
   "execution_count": 93,
   "id": "de3e3181-6f0c-4792-930c-5b42390a7a1e",
   "metadata": {},
   "outputs": [
    {
     "data": {
      "text/html": [
       "<div>\n",
       "<style scoped>\n",
       "    .dataframe tbody tr th:only-of-type {\n",
       "        vertical-align: middle;\n",
       "    }\n",
       "\n",
       "    .dataframe tbody tr th {\n",
       "        vertical-align: top;\n",
       "    }\n",
       "\n",
       "    .dataframe thead th {\n",
       "        text-align: right;\n",
       "    }\n",
       "</style>\n",
       "<table border=\"1\" class=\"dataframe\">\n",
       "  <thead>\n",
       "    <tr style=\"text-align: right;\">\n",
       "      <th></th>\n",
       "      <th>question</th>\n",
       "      <th>score</th>\n",
       "    </tr>\n",
       "  </thead>\n",
       "  <tbody>\n",
       "    <tr>\n",
       "      <th>0</th>\n",
       "      <td>Suppose I want a field to be coerced to a spec...</td>\n",
       "      <td>0.870713</td>\n",
       "    </tr>\n",
       "    <tr>\n",
       "      <th>1</th>\n",
       "      <td>Consider this toy dataset, simulated with cros...</td>\n",
       "      <td>3.683752</td>\n",
       "    </tr>\n",
       "    <tr>\n",
       "      <th>2</th>\n",
       "      <td>I analyzed the problem in depth. I get faster ...</td>\n",
       "      <td>1.986925</td>\n",
       "    </tr>\n",
       "    <tr>\n",
       "      <th>3</th>\n",
       "      <td>i'm making some simple circles in a svg and ne...</td>\n",
       "      <td>2.187722</td>\n",
       "    </tr>\n",
       "    <tr>\n",
       "      <th>4</th>\n",
       "      <td>In the below code, I expect row_values variabl...</td>\n",
       "      <td>2.138345</td>\n",
       "    </tr>\n",
       "    <tr>\n",
       "      <th>...</th>\n",
       "      <td>...</td>\n",
       "      <td>...</td>\n",
       "    </tr>\n",
       "    <tr>\n",
       "      <th>194</th>\n",
       "      <td>I want to get the orientation (in 3d space if ...</td>\n",
       "      <td>4.922208</td>\n",
       "    </tr>\n",
       "    <tr>\n",
       "      <th>195</th>\n",
       "      <td>I am using the python api for dropbox and my q...</td>\n",
       "      <td>2.265364</td>\n",
       "    </tr>\n",
       "    <tr>\n",
       "      <th>196</th>\n",
       "      <td>I have used encoder_model.onnx for Flan - T5 s...</td>\n",
       "      <td>2.353467</td>\n",
       "    </tr>\n",
       "    <tr>\n",
       "      <th>197</th>\n",
       "      <td>I can't figure out why my session variables ar...</td>\n",
       "      <td>2.417197</td>\n",
       "    </tr>\n",
       "    <tr>\n",
       "      <th>198</th>\n",
       "      <td>We have 3 operators and I want them to be busy...</td>\n",
       "      <td>2.032441</td>\n",
       "    </tr>\n",
       "  </tbody>\n",
       "</table>\n",
       "<p>199 rows × 2 columns</p>\n",
       "</div>"
      ],
      "text/plain": [
       "                                              question     score\n",
       "0    Suppose I want a field to be coerced to a spec...  0.870713\n",
       "1    Consider this toy dataset, simulated with cros...  3.683752\n",
       "2    I analyzed the problem in depth. I get faster ...  1.986925\n",
       "3    i'm making some simple circles in a svg and ne...  2.187722\n",
       "4    In the below code, I expect row_values variabl...  2.138345\n",
       "..                                                 ...       ...\n",
       "194  I want to get the orientation (in 3d space if ...  4.922208\n",
       "195  I am using the python api for dropbox and my q...  2.265364\n",
       "196  I have used encoder_model.onnx for Flan - T5 s...  2.353467\n",
       "197  I can't figure out why my session variables ar...  2.417197\n",
       "198  We have 3 operators and I want them to be busy...  2.032441\n",
       "\n",
       "[199 rows x 2 columns]"
      ]
     },
     "execution_count": 93,
     "metadata": {},
     "output_type": "execute_result"
    }
   ],
   "source": [
    "dataset = pd.DataFrame({'question':dataset, 'score': scores})\n",
    "dataset"
   ]
  },
  {
   "cell_type": "markdown",
   "id": "96ce42e3-30b9-4010-8229-aec131f732e1",
   "metadata": {},
   "source": [
    "# 2. NLP Pipeline"
   ]
  },
  {
   "cell_type": "code",
   "execution_count": 96,
   "id": "e6e251a1-ac3c-4c71-8e68-b3d3ac4b8d7f",
   "metadata": {},
   "outputs": [
    {
     "data": {
      "text/html": [
       "<div>\n",
       "<style scoped>\n",
       "    .dataframe tbody tr th:only-of-type {\n",
       "        vertical-align: middle;\n",
       "    }\n",
       "\n",
       "    .dataframe tbody tr th {\n",
       "        vertical-align: top;\n",
       "    }\n",
       "\n",
       "    .dataframe thead th {\n",
       "        text-align: right;\n",
       "    }\n",
       "</style>\n",
       "<table border=\"1\" class=\"dataframe\">\n",
       "  <thead>\n",
       "    <tr style=\"text-align: right;\">\n",
       "      <th></th>\n",
       "      <th>question</th>\n",
       "      <th>score</th>\n",
       "    </tr>\n",
       "  </thead>\n",
       "  <tbody>\n",
       "    <tr>\n",
       "      <th>0</th>\n",
       "      <td>Suppose I want a field to be coerced to a spec...</td>\n",
       "      <td>0.870713</td>\n",
       "    </tr>\n",
       "    <tr>\n",
       "      <th>1</th>\n",
       "      <td>Consider this toy dataset simulated with cross...</td>\n",
       "      <td>3.683752</td>\n",
       "    </tr>\n",
       "    <tr>\n",
       "      <th>2</th>\n",
       "      <td>I analyzed the problem in depth I get faster r...</td>\n",
       "      <td>1.986925</td>\n",
       "    </tr>\n",
       "    <tr>\n",
       "      <th>3</th>\n",
       "      <td>im making some simple circles in a svg and nee...</td>\n",
       "      <td>2.187722</td>\n",
       "    </tr>\n",
       "    <tr>\n",
       "      <th>4</th>\n",
       "      <td>In the below code I expect rowvalues variable ...</td>\n",
       "      <td>2.138345</td>\n",
       "    </tr>\n",
       "    <tr>\n",
       "      <th>...</th>\n",
       "      <td>...</td>\n",
       "      <td>...</td>\n",
       "    </tr>\n",
       "    <tr>\n",
       "      <th>194</th>\n",
       "      <td>I want to get the orientation in 3d space if p...</td>\n",
       "      <td>4.922208</td>\n",
       "    </tr>\n",
       "    <tr>\n",
       "      <th>195</th>\n",
       "      <td>I am using the python api for dropbox and my q...</td>\n",
       "      <td>2.265364</td>\n",
       "    </tr>\n",
       "    <tr>\n",
       "      <th>196</th>\n",
       "      <td>I have used encodermodelonnx for Flan  T5 smal...</td>\n",
       "      <td>2.353467</td>\n",
       "    </tr>\n",
       "    <tr>\n",
       "      <th>197</th>\n",
       "      <td>I cant figure out why my session variables are...</td>\n",
       "      <td>2.417197</td>\n",
       "    </tr>\n",
       "    <tr>\n",
       "      <th>198</th>\n",
       "      <td>We have 3 operators and I want them to be busy...</td>\n",
       "      <td>2.032441</td>\n",
       "    </tr>\n",
       "  </tbody>\n",
       "</table>\n",
       "<p>199 rows × 2 columns</p>\n",
       "</div>"
      ],
      "text/plain": [
       "                                              question     score\n",
       "0    Suppose I want a field to be coerced to a spec...  0.870713\n",
       "1    Consider this toy dataset simulated with cross...  3.683752\n",
       "2    I analyzed the problem in depth I get faster r...  1.986925\n",
       "3    im making some simple circles in a svg and nee...  2.187722\n",
       "4    In the below code I expect rowvalues variable ...  2.138345\n",
       "..                                                 ...       ...\n",
       "194  I want to get the orientation in 3d space if p...  4.922208\n",
       "195  I am using the python api for dropbox and my q...  2.265364\n",
       "196  I have used encodermodelonnx for Flan  T5 smal...  2.353467\n",
       "197  I cant figure out why my session variables are...  2.417197\n",
       "198  We have 3 operators and I want them to be busy...  2.032441\n",
       "\n",
       "[199 rows x 2 columns]"
      ]
     },
     "execution_count": 96,
     "metadata": {},
     "output_type": "execute_result"
    }
   ],
   "source": [
    "def data_preproccessing(text):\n",
    "    pattern = r'[^a-zA-Z0-9\\s]'\n",
    "    clean_text = re.sub(pattern, '', text)\n",
    "    return clean_text\n",
    "\n",
    "dataset[\"question\"] = dataset[\"question\"].apply(data_preproccessing)\n",
    "dataset"
   ]
  },
  {
   "cell_type": "code",
   "execution_count": 97,
   "id": "5adb82b4-8b82-462d-a5eb-2cded0857330",
   "metadata": {},
   "outputs": [
    {
     "ename": "NameError",
     "evalue": "name 'nn' is not defined",
     "output_type": "error",
     "traceback": [
      "\u001b[0;31m---------------------------------------------------------------------------\u001b[0m",
      "\u001b[0;31mNameError\u001b[0m                                 Traceback (most recent call last)",
      "Cell \u001b[0;32mIn[97], line 1\u001b[0m\n\u001b[0;32m----> 1\u001b[0m \u001b[38;5;28;01mclass\u001b[39;00m \u001b[38;5;21;01mRNNModel\u001b[39;00m(\u001b[43mnn\u001b[49m\u001b[38;5;241m.\u001b[39mModule):\n\u001b[1;32m      2\u001b[0m     \u001b[38;5;28;01mdef\u001b[39;00m \u001b[38;5;21m__init__\u001b[39m(\u001b[38;5;28mself\u001b[39m, input_size, hidden_size, output_size):\n\u001b[1;32m      3\u001b[0m         \u001b[38;5;28msuper\u001b[39m(RNNModel, \u001b[38;5;28mself\u001b[39m)\u001b[38;5;241m.\u001b[39m\u001b[38;5;21m__init__\u001b[39m()\n",
      "\u001b[0;31mNameError\u001b[0m: name 'nn' is not defined"
     ]
    }
   ],
   "source": [
    "class RNNModel(nn.Module):\n",
    "    def __init__(self, input_size, hidden_size, output_size):\n",
    "        super(RNNModel, self).__init__()\n",
    "        self.embedding = nn.Embedding(input_size, embedding_dim)\n",
    "        self.rnn = nn.RNN(embedding_dim, hidden_size, batch_first=True)\n",
    "        self.fc = nn.Linear(hidden_size, output_size)\n",
    "\n",
    "    def forward(self, x):\n",
    "        embedded = self.embedding(x)\n",
    "        output, _ = self.rnn(embedded)\n",
    "        output = self.fc(output[:, -1, :])\n",
    "        return output"
   ]
  },
  {
   "cell_type": "code",
   "execution_count": null,
   "id": "608fd839-f85c-4c9c-a17d-23de4159c838",
   "metadata": {},
   "outputs": [],
   "source": []
  }
 ],
 "metadata": {
  "kernelspec": {
   "display_name": "Python 3 (ipykernel)",
   "language": "python",
   "name": "python3"
  },
  "language_info": {
   "codemirror_mode": {
    "name": "ipython",
    "version": 3
   },
   "file_extension": ".py",
   "mimetype": "text/x-python",
   "name": "python",
   "nbconvert_exporter": "python",
   "pygments_lexer": "ipython3",
   "version": "3.12.3"
  }
 },
 "nbformat": 4,
 "nbformat_minor": 5
}
